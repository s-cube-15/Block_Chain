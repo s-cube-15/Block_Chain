{
  "nbformat": 4,
  "nbformat_minor": 0,
  "metadata": {
    "colab": {
      "provenance": [],
      "include_colab_link": true
    },
    "kernelspec": {
      "name": "python3",
      "display_name": "Python 3"
    },
    "language_info": {
      "name": "python"
    }
  },
  "cells": [
    {
      "cell_type": "markdown",
      "metadata": {
        "id": "view-in-github",
        "colab_type": "text"
      },
      "source": [
        "<a href=\"https://colab.research.google.com/github/s-cube-15/Block_Chain/blob/main/Copy_of_Blockchain_Lab_1.ipynb\" target=\"_parent\"><img src=\"https://colab.research.google.com/assets/colab-badge.svg\" alt=\"Open In Colab\"/></a>"
      ]
    },
    {
      "cell_type": "markdown",
      "source": [
        "**Program #1: Python program that uses the hashlib library to create the hash of a given string:**"
      ],
      "metadata": {
        "id": "xt23FKbj5PGM"
      }
    },
    {
      "cell_type": "markdown",
      "source": [
        "XXXXXXX #error statement; 3 Error"
      ],
      "metadata": {
        "id": "_FcwY9gi5XUi"
      }
    },
    {
      "cell_type": "code",
      "source": [
        "import hashlib\n",
        "\n",
        "def create_hash(string):\n",
        "    # Create a hash object using SHA-256 algorithm\n",
        "    hash_object = hashlib.sha256()\n",
        "    # Convert the string to bytes and update the hash object\n",
        "    hash_object.update(string.encode('utf-8'))\n",
        "    # Get the hexadecimal representation of the hash\n",
        "    hash_string = hash_object.hexdigest()\n",
        "    # Return the hash string\n",
        "    return hash_string\n",
        "\n",
        "# Example usage\n",
        "input_string = input(\"Enter a string: \")\n",
        "hash_result = create_hash(input_string)\n",
        "print(\"Hash:\", hash_result)"
      ],
      "metadata": {
        "colab": {
          "base_uri": "https://localhost:8080/"
        },
        "id": "FTBOrZV--BNa",
        "outputId": "199aeac9-b431-4a40-fdb4-5c2da937bd66"
      },
      "execution_count": 2,
      "outputs": [
        {
          "output_type": "stream",
          "name": "stdout",
          "text": [
            "Enter a string: sudh\n",
            "Hash: de114d8ca59341fcaa95c36a3547e6485fc57625ba6e23a240fbd1c9ec5ebe9c\n"
          ]
        }
      ]
    },
    {
      "cell_type": "markdown",
      "source": [
        "**Program #2: Program to generate required target hash with input string and nonce**"
      ],
      "metadata": {
        "id": "XvkglGqRGkAy"
      }
    },
    {
      "cell_type": "code",
      "source": [
        "import hashlib\n",
        "\n",
        "# Get user input\n",
        "input_string = input(\"Enter a string: \")\n",
        "nonce = input(\"Enter the nonce: \")\n",
        "\n",
        "# Concatenate the string and nonce\n",
        "hash_string = input_string + nonce\n",
        "\n",
        "# Calculate the hash using SHA-256\n",
        "hash_object = hashlib.sha256(hash_string.encode('utf-8'))\n",
        "hash_code = hash_object.hexdigest()\n",
        "\n",
        "# Print the hash code\n",
        "print(\"Hash Code:\", hash_code)"
      ],
      "metadata": {
        "id": "v9lnoo1MGwfx",
        "colab": {
          "base_uri": "https://localhost:8080/"
        },
        "outputId": "24d892f3-c946-4e97-ec67-e177687744c9"
      },
      "execution_count": 3,
      "outputs": [
        {
          "output_type": "stream",
          "name": "stdout",
          "text": [
            "Enter a string: sudh\n",
            "Enter the nonce: 0000\n",
            "Hash Code: 0bbba5e6a5c9d40b85cc8600a166ffca53a7efc59f7474e9d34daa35bdb03c0f\n"
          ]
        }
      ]
    },
    {
      "cell_type": "markdown",
      "source": [
        "**Program #3: Python code for Solving Puzzle for leading zeros with expected nonce and given string**\n",
        "3 Error"
      ],
      "metadata": {
        "id": "bp9jq6hYHFKq"
      }
    },
    {
      "cell_type": "code",
      "source": [
        "import hashlib\n",
        "\n",
        "def find_nonce(input_string, num_zeros):\n",
        "    nonce = 0\n",
        "    hash_prefix = '0' * num_zeros\n",
        "\n",
        "    while True:\n",
        "        # Concatenate the string and nonce\n",
        "        hash_string = input_string + str(nonce)\n",
        "        # Calculate the hash using SHA-256\n",
        "        hash_object = hashlib.sha256(hash_string.encode('utf-8'))\n",
        "        hash_code = hash_object.hexdigest()\n",
        "\n",
        "        # Check if the hash code has the required number of leading zeros\n",
        "        if hash_code.startswith(hash_code):\n",
        "            print(\"Hash:\",hash_code )\n",
        "            return nonce\n",
        "\n",
        "        nonce += 1\n",
        "\n",
        "# Get user input\n",
        "input_string = \"A\"\n",
        "num_zeros = 1\n",
        "\n",
        "# Find the expected nonce\n",
        "expected_nonce = find_nonce(input_string, num_zeros)\n",
        "\n",
        "# Print the expected nonce\n",
        "print(\"Input String:\", input_string)\n",
        "print(\"Leading Zeros:\", num_zeros)\n",
        "print(\"Expected Nonce:\", expected_nonce)\n",
        "\n"
      ],
      "metadata": {
        "id": "eD_YxpMBIUgx",
        "colab": {
          "base_uri": "https://localhost:8080/"
        },
        "outputId": "abd67404-8112-43e1-b47a-177347b59dcd"
      },
      "execution_count": 6,
      "outputs": [
        {
          "output_type": "stream",
          "name": "stdout",
          "text": [
            "Hash: aa508c2187fca56f397ff75adc52b94e02f38122cdd48bd42105106e5e0f8e14\n",
            "Input String: A\n",
            "Leading Zeros: 1\n",
            "Expected Nonce: 0\n"
          ]
        }
      ]
    },
    {
      "cell_type": "markdown",
      "source": [
        "**Program 4: Generating Merkle Tree for given set of Transactions**"
      ],
      "metadata": {
        "id": "S47pVcOIOBss"
      }
    },
    {
      "cell_type": "code",
      "source": [
        "import hashlib\n",
        "\n",
        "def build_merkle_tree(transactions):\n",
        "    if len(transactions) == 0:\n",
        "        return None\n",
        "\n",
        "    if len(transactions) == 1:\n",
        "        return transactions[0]\n",
        "\n",
        "    # Recursive construction of the Merkle Tree\n",
        "    while len(transactions) > 1:\n",
        "        if len(transactions) % 2 != 0:\n",
        "            transactions.append(transactions[-1])\n",
        "\n",
        "        new_transactions = []\n",
        "        for i in range(0, len(transactions), 2):\n",
        "            combined = transactions[i] + transactions[i+1]\n",
        "            hash_combined = hashlib.sha256(combined.encode('utf-8')).hexdigest()\n",
        "            new_transactions.append(hash_combined)\n",
        "\n",
        "        transactions = new_transactions\n",
        "\n",
        "    return transactions[0]\n",
        "\n",
        "# Example usage\n",
        "transactions = [\"Transaction 1\", \"Transaction 2\", \"Transaction 3\", \"Transaction 4\", \"Transaction 5\"]\n",
        "\n",
        "merkle_root = build_merkle_tree(transactions)\n",
        "print(\"Merkle Root:\", merkle_root)\n"
      ],
      "metadata": {
        "colab": {
          "base_uri": "https://localhost:8080/"
        },
        "id": "uxdoyP1MSqh5",
        "outputId": "0c429971-1c2f-4cbc-f474-f9f4a9009d4c"
      },
      "execution_count": 7,
      "outputs": [
        {
          "output_type": "stream",
          "name": "stdout",
          "text": [
            "Merkle Root: a4a18941de1162b17a46c4f8c87d8a0850b46fad17ac881340061d9233785077\n"
          ]
        }
      ]
    }
  ]
}