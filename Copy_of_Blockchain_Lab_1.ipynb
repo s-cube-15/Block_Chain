{
  "nbformat": 4,
  "nbformat_minor": 0,
  "metadata": {
    "colab": {
      "provenance": [],
      "include_colab_link": true
    },
    "kernelspec": {
      "name": "python3",
      "display_name": "Python 3"
    },
    "language_info": {
      "name": "python"
    }
  },
  "cells": [
    {
      "cell_type": "markdown",
      "metadata": {
        "id": "view-in-github",
        "colab_type": "text"
      },
      "source": [
        "<a href=\"https://colab.research.google.com/github/s-cube-15/Block_Chain/blob/main/Copy_of_Blockchain_Lab_1.ipynb\" target=\"_parent\"><img src=\"https://colab.research.google.com/assets/colab-badge.svg\" alt=\"Open In Colab\"/></a>"
      ]
    },
    {
      "cell_type": "markdown",
      "source": [
        "**Program #1: Python program that uses the hashlib library to create the hash of a given string:**"
      ],
      "metadata": {
        "id": "xt23FKbj5PGM"
      }
    },
    {
      "cell_type": "markdown",
      "source": [
        "XXXXXXX #error statement; 3 Error"
      ],
      "metadata": {
        "id": "_FcwY9gi5XUi"
      }
    },
    {
      "cell_type": "code",
      "source": [
        "import hashlib                                                 #error statement\n",
        "\n",
        "def create_hash(string):\n",
        "    # Create a hash object using SHA-256 algorithm\n",
        "    hash_object = hashlib.sha256()\n",
        "    # Convert the string to bytes and update the hash object\n",
        "    hash_object.update(string.encode('utf-8'))\n",
        "    # Get the hexadecimal representation of the hash\n",
        "    hash_string = XXXXXXX.hexdigest()                          #error statement\n",
        "    # Return the hash string\n",
        "    return hash_string\n",
        "\n",
        "# Example usage\n",
        "input_string = input(\"Enter a string: \")\n",
        "hash_result = create_hash(input_string)\n",
        "print(\"Hash:\", XXXXXXX)                                         #error statement"
      ],
      "metadata": {
        "colab": {
          "base_uri": "https://localhost:8080/"
        },
        "id": "FTBOrZV--BNa",
        "outputId": "8923fe5a-fb12-4a34-a85c-85257e030da3"
      },
      "execution_count": null,
      "outputs": [
        {
          "output_type": "stream",
          "name": "stdout",
          "text": [
            "Enter a string: a\n",
            "Hash: ca978112ca1bbdcafac231b39a23dc4da786eff8147c4e72b9807785afee48bb\n"
          ]
        }
      ]
    },
    {
      "cell_type": "markdown",
      "source": [
        "**Program #2: Program to generate required target hash with input string and nonce**"
      ],
      "metadata": {
        "id": "XvkglGqRGkAy"
      }
    },
    {
      "cell_type": "code",
      "source": [
        "import hashlib\n",
        "\n",
        "# Get user input\n",
        "input_string = input(\"Enter a string: \")\n",
        "nonce = input(\"Enter the nonce: \")\n",
        "\n",
        "# Concatenate the string and nonce\n",
        "hash_string = input_string + XXXXX                                   # Error\n",
        "\n",
        "# Calculate the hash using SHA-256\n",
        "hash_object = hashlib.sha256(hash_string.encode('utf-8'))\n",
        "hash_code = hash_object.hexdigest()\n",
        "\n",
        "# Print the hash code\n",
        "print(\"Hash Code:\", xxxxx)                                          # Error"
      ],
      "metadata": {
        "id": "v9lnoo1MGwfx"
      },
      "execution_count": null,
      "outputs": []
    },
    {
      "cell_type": "markdown",
      "source": [
        "**Program #3: Python code for Solving Puzzle for leading zeros with expected nonce and given string**\n",
        "3 Error"
      ],
      "metadata": {
        "id": "bp9jq6hYHFKq"
      }
    },
    {
      "cell_type": "code",
      "source": [
        "import hashlib\n",
        "\n",
        "def find_nonce(input_string, num_zeros):\n",
        "    nonce = 0\n",
        "    hash_prefix = '0' * num_zeros\n",
        "\n",
        "    while True:\n",
        "        # Concatenate the string and nonce\n",
        "        hash_string = input_string + str(XXXXX)                       #Error\n",
        "        # Calculate the hash using SHA-256\n",
        "        hash_object = hashlib.sha256(hash_string.encode('utf-8'))\n",
        "        hash_code = hash_object.hexdigest()\n",
        "\n",
        "        # Check if the hash code has the required number of leading zeros\n",
        "        if hash_code.startswith(hash_XXXXXX):                            #Error\n",
        "            print(\"Hash:\",hash_code )\n",
        "            return nonce\n",
        "\n",
        "        nonce += 1\n",
        "\n",
        "# Get user input\n",
        "input_string = \"A\"\n",
        "num_zeros = 1\n",
        "\n",
        "# Find the expected nonce\n",
        "expected_nonce = find_nonce(input_string, num_zeros)\n",
        "\n",
        "# Print the expected nonce\n",
        "print(\"Input String:\", input_string)\n",
        "print(\"Leading Zeros:\", num_zeros)\n",
        "print(\"Expected Nonce:\", XXXXXXXXXXXX)                                   #Error\n",
        "\n"
      ],
      "metadata": {
        "id": "eD_YxpMBIUgx"
      },
      "execution_count": null,
      "outputs": []
    },
    {
      "cell_type": "markdown",
      "source": [
        "**Program 4: Generating Merkle Tree for given set of Transactions**"
      ],
      "metadata": {
        "id": "S47pVcOIOBss"
      }
    },
    {
      "cell_type": "code",
      "source": [
        "import hashlib\n",
        "\n",
        "def build_merkle_tree(xxxxxxxxxx):                               # Error\n",
        "    if len(transactions) == 0:\n",
        "        return None\n",
        "\n",
        "    if len(transactions) == 1:\n",
        "        return transactions[0]\n",
        "\n",
        "    # Recursive construction of the Merkle Tree\n",
        "    while len(transactions) > 1:\n",
        "        if len(transactions) % 2 != 0:\n",
        "            transactions.append(transactions[-1])\n",
        "\n",
        "        new_transactions = []\n",
        "        for i in range(0, len(transactions), 2):\n",
        "            combined = transactions[i] + transactions[i+1]\n",
        "            hash_combined = hashlib.sha256(combined.encode('utf-8')).hexdigest()\n",
        "            new_transactions.append(xxxxxxxxxx)                  # Error\n",
        "\n",
        "        transactions = new_transactions\n",
        "\n",
        "    return transactions[0]\n",
        "\n",
        "# Example usage\n",
        "transactions = [\"Transaction 1\", \"Transaction 2\", \"Transaction 3\", \"Transaction 4\", \"Transaction 5\"]\n",
        "\n",
        "merkle_root = build_merkle_tree(transactions)\n",
        "print(\"Merkle Root:\", xxxxxxxxxx)                                # Error\n"
      ],
      "metadata": {
        "colab": {
          "base_uri": "https://localhost:8080/"
        },
        "id": "uxdoyP1MSqh5",
        "outputId": "95a498ed-e797-4d82-b682-85d5c2fb1d1d"
      },
      "execution_count": null,
      "outputs": [
        {
          "output_type": "stream",
          "name": "stdout",
          "text": [
            "Merkle Root: a4a18941de1162b17a46c4f8c87d8a0850b46fad17ac881340061d9233785077\n"
          ]
        }
      ]
    }
  ]
}